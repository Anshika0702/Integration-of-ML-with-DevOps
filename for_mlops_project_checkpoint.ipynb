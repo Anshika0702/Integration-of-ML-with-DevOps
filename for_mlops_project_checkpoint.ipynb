{
  "nbformat": 4,
  "nbformat_minor": 0,
  "metadata": {
    "colab": {
      "name": "for mlops project-checkpoint.ipynb",
      "provenance": [],
      "authorship_tag": "ABX9TyNyXZOu2aW7nWdtn8NGIGGW",
      "include_colab_link": true
    },
    "kernelspec": {
      "name": "python3",
      "display_name": "Python 3"
    }
  },
  "cells": [
    {
      "cell_type": "markdown",
      "metadata": {
        "id": "view-in-github",
        "colab_type": "text"
      },
      "source": [
        "<a href=\"https://colab.research.google.com/github/Anshika0702/Integration-of-ML-with-DevOps/blob/master/for_mlops_project_checkpoint.ipynb\" target=\"_parent\"><img src=\"https://colab.research.google.com/assets/colab-badge.svg\" alt=\"Open In Colab\"/></a>"
      ]
    },
    {
      "cell_type": "code",
      "metadata": {
        "id": "DOEiRTGktNzt",
        "colab_type": "code",
        "colab": {
          "base_uri": "https://localhost:8080/",
          "height": 34
        },
        "outputId": "5ca8aa32-7b7e-4280-e2bc-53fd285a012c"
      },
      "source": [
        "import keras"
      ],
      "execution_count": 1,
      "outputs": [
        {
          "output_type": "stream",
          "text": [
            "Using TensorFlow backend.\n"
          ],
          "name": "stderr"
        }
      ]
    },
    {
      "cell_type": "code",
      "metadata": {
        "id": "o7xLVkRPtkLH",
        "colab_type": "code",
        "colab": {}
      },
      "source": [
        "from keras.datasets import mnist"
      ],
      "execution_count": 0,
      "outputs": []
    },
    {
      "cell_type": "code",
      "metadata": {
        "id": "xuhL2f--tk5P",
        "colab_type": "code",
        "colab": {
          "base_uri": "https://localhost:8080/",
          "height": 51
        },
        "outputId": "88bff788-8655-47ea-8bb7-d42d818cdd04"
      },
      "source": [
        "dataset = mnist.load_data(\"mymnist.data\")"
      ],
      "execution_count": 3,
      "outputs": [
        {
          "output_type": "stream",
          "text": [
            "Downloading data from https://s3.amazonaws.com/img-datasets/mnist.npz\n",
            "11493376/11490434 [==============================] - 0s 0us/step\n"
          ],
          "name": "stdout"
        }
      ]
    },
    {
      "cell_type": "code",
      "metadata": {
        "id": "r98lo66Ytlij",
        "colab_type": "code",
        "colab": {
          "base_uri": "https://localhost:8080/",
          "height": 34
        },
        "outputId": "697ba547-38dc-4b60-ad64-a98e15fc4c16"
      },
      "source": [
        "len(dataset)"
      ],
      "execution_count": 4,
      "outputs": [
        {
          "output_type": "execute_result",
          "data": {
            "text/plain": [
              "2"
            ]
          },
          "metadata": {
            "tags": []
          },
          "execution_count": 4
        }
      ]
    },
    {
      "cell_type": "code",
      "metadata": {
        "id": "vW18ZVjCtmWE",
        "colab_type": "code",
        "colab": {}
      },
      "source": [
        "train , test = dataset"
      ],
      "execution_count": 0,
      "outputs": []
    },
    {
      "cell_type": "code",
      "metadata": {
        "id": "2oaPset7tnEu",
        "colab_type": "code",
        "colab": {
          "base_uri": "https://localhost:8080/",
          "height": 34
        },
        "outputId": "e864c51e-f1b9-46ae-a3d4-1b92862c2c7b"
      },
      "source": [
        "len(train)"
      ],
      "execution_count": 6,
      "outputs": [
        {
          "output_type": "execute_result",
          "data": {
            "text/plain": [
              "2"
            ]
          },
          "metadata": {
            "tags": []
          },
          "execution_count": 6
        }
      ]
    },
    {
      "cell_type": "code",
      "metadata": {
        "id": "a0Zrao2ktnmX",
        "colab_type": "code",
        "colab": {
          "base_uri": "https://localhost:8080/",
          "height": 34
        },
        "outputId": "21a131aa-a6b3-4d0c-f4f5-40c52e8cbe30"
      },
      "source": [
        "len(test)"
      ],
      "execution_count": 7,
      "outputs": [
        {
          "output_type": "execute_result",
          "data": {
            "text/plain": [
              "2"
            ]
          },
          "metadata": {
            "tags": []
          },
          "execution_count": 7
        }
      ]
    },
    {
      "cell_type": "code",
      "metadata": {
        "id": "k3MxN-TXum65",
        "colab_type": "code",
        "colab": {}
      },
      "source": [
        "train_X , train_y = train\n",
        "test_X , test_y = test"
      ],
      "execution_count": 0,
      "outputs": []
    },
    {
      "cell_type": "code",
      "metadata": {
        "id": "VA9gKY0-unhw",
        "colab_type": "code",
        "colab": {
          "base_uri": "https://localhost:8080/",
          "height": 34
        },
        "outputId": "bc6a4bf0-b182-47ec-8b38-f7c98cf72ecd"
      },
      "source": [
        "train_X.shape"
      ],
      "execution_count": 9,
      "outputs": [
        {
          "output_type": "execute_result",
          "data": {
            "text/plain": [
              "(60000, 28, 28)"
            ]
          },
          "metadata": {
            "tags": []
          },
          "execution_count": 9
        }
      ]
    },
    {
      "cell_type": "code",
      "metadata": {
        "id": "cNRvWneBun_C",
        "colab_type": "code",
        "colab": {
          "base_uri": "https://localhost:8080/",
          "height": 34
        },
        "outputId": "d775f160-d30a-44cd-e327-7eb2c6e19df3"
      },
      "source": [
        "test_X.shape"
      ],
      "execution_count": 10,
      "outputs": [
        {
          "output_type": "execute_result",
          "data": {
            "text/plain": [
              "(10000, 28, 28)"
            ]
          },
          "metadata": {
            "tags": []
          },
          "execution_count": 10
        }
      ]
    },
    {
      "cell_type": "code",
      "metadata": {
        "id": "sZkxb0vGuod4",
        "colab_type": "code",
        "colab": {}
      },
      "source": [
        "import matplotlib.pyplot as plt"
      ],
      "execution_count": 0,
      "outputs": []
    },
    {
      "cell_type": "code",
      "metadata": {
        "id": "KKZ5sqSWupBL",
        "colab_type": "code",
        "colab": {}
      },
      "source": [
        "img = train_X[9]\n",
        "img2 = train_X[5]\n",
        "img3 = train_X[2020]"
      ],
      "execution_count": 0,
      "outputs": []
    },
    {
      "cell_type": "code",
      "metadata": {
        "id": "NG5l0mGAupkd",
        "colab_type": "code",
        "colab": {
          "base_uri": "https://localhost:8080/",
          "height": 282
        },
        "outputId": "8eecc1a4-b180-4324-bb58-32e60fd2853b"
      },
      "source": [
        "plt.imshow(img)"
      ],
      "execution_count": 14,
      "outputs": [
        {
          "output_type": "execute_result",
          "data": {
            "text/plain": [
              "<matplotlib.image.AxesImage at 0x7f9ec0da3f60>"
            ]
          },
          "metadata": {
            "tags": []
          },
          "execution_count": 14
        },
        {
          "output_type": "display_data",
          "data": {
            "image/png": "[encoded data removed]",
            "text/plain": [
              "<Figure size 432x288 with 1 Axes>"
            ]
          },
          "metadata": {
            "tags": [],
            "needs_background": "light"
          }
        }
      ]
    },
    {
      "cell_type": "code",
      "metadata": {
        "id": "NMrqKE0VuqEo",
        "colab_type": "code",
        "colab": {
          "base_uri": "https://localhost:8080/",
          "height": 34
        },
        "outputId": "09576621-9c25-493f-d60d-4d50b35ab0ff"
      },
      "source": [
        "train_y[9]"
      ],
      "execution_count": 15,
      "outputs": [
        {
          "output_type": "execute_result",
          "data": {
            "text/plain": [
              "4"
            ]
          },
          "metadata": {
            "tags": []
          },
          "execution_count": 15
        }
      ]
    },
    {
      "cell_type": "code",
      "metadata": {
        "id": "VuPgWxqWusdd",
        "colab_type": "code",
        "colab": {
          "base_uri": "https://localhost:8080/",
          "height": 282
        },
        "outputId": "00bd025f-fd21-4661-a793-251fad8c84f8"
      },
      "source": [
        "plt.imshow(img2)"
      ],
      "execution_count": 16,
      "outputs": [
        {
          "output_type": "execute_result",
          "data": {
            "text/plain": [
              "<matplotlib.image.AxesImage at 0x7f9ec059a2b0>"
            ]
          },
          "metadata": {
            "tags": []
          },
          "execution_count": 16
        },
        {
          "output_type": "display_data",
          "data": {
            "image/png": "[encoded data removed]",
            "text/plain": [
              "<Figure size 432x288 with 1 Axes>"
            ]
          },
          "metadata": {
            "tags": [],
            "needs_background": "light"
          }
        }
      ]
    },
    {
      "cell_type": "code",
      "metadata": {
        "id": "M-WMrBkuv6Dl",
        "colab_type": "code",
        "colab": {
          "base_uri": "https://localhost:8080/",
          "height": 34
        },
        "outputId": "ae38c529-40bb-4786-90be-454a7a4d0362"
      },
      "source": [
        "train_y[5]"
      ],
      "execution_count": 17,
      "outputs": [
        {
          "output_type": "execute_result",
          "data": {
            "text/plain": [
              "2"
            ]
          },
          "metadata": {
            "tags": []
          },
          "execution_count": 17
        }
      ]
    },
    {
      "cell_type": "code",
      "metadata": {
        "id": "HWKl198pv6pb",
        "colab_type": "code",
        "colab": {
          "base_uri": "https://localhost:8080/",
          "height": 282
        },
        "outputId": "d6260c02-5bfe-44dd-c41e-42a8c88a6f81"
      },
      "source": [
        "plt.imshow(img3)"
      ],
      "execution_count": 18,
      "outputs": [
        {
          "output_type": "execute_result",
          "data": {
            "text/plain": [
              "<matplotlib.image.AxesImage at 0x7f9ec05aba20>"
            ]
          },
          "metadata": {
            "tags": []
          },
          "execution_count": 18
        },
        {
          "output_type": "display_data",
          "data": {
            "image/png": "[encoded data removed]",
            "text/plain": [
              "<Figure size 432x288 with 1 Axes>"
            ]
          },
          "metadata": {
            "tags": [],
            "needs_background": "light"
          }
        }
      ]
    },
    {
      "cell_type": "code",
      "metadata": {
        "id": "ItbrCnT0v7QY",
        "colab_type": "code",
        "colab": {
          "base_uri": "https://localhost:8080/",
          "height": 34
        },
        "outputId": "d5403b46-857d-4b99-93fd-3e77e095076f"
      },
      "source": [
        "train_y[2020]"
      ],
      "execution_count": 19,
      "outputs": [
        {
          "output_type": "execute_result",
          "data": {
            "text/plain": [
              "6"
            ]
          },
          "metadata": {
            "tags": []
          },
          "execution_count": 19
        }
      ]
    },
    {
      "cell_type": "code",
      "metadata": {
        "id": "ziwgrQ-Tv7y4",
        "colab_type": "code",
        "colab": {
          "base_uri": "https://localhost:8080/",
          "height": 34
        },
        "outputId": "1edfdfc2-91bc-4e50-e146-ecdbca2a0f3d"
      },
      "source": [
        "img.shape"
      ],
      "execution_count": 20,
      "outputs": [
        {
          "output_type": "execute_result",
          "data": {
            "text/plain": [
              "(28, 28)"
            ]
          },
          "metadata": {
            "tags": []
          },
          "execution_count": 20
        }
      ]
    },
    {
      "cell_type": "code",
      "metadata": {
        "id": "XIkAO03Qv8Q-",
        "colab_type": "code",
        "colab": {
          "base_uri": "https://localhost:8080/",
          "height": 34
        },
        "outputId": "19cc81f7-ac32-48f0-83a3-63fa80c5f35e"
      },
      "source": [
        "rimg = img.reshape(28*28)\n",
        "rimg.shape"
      ],
      "execution_count": 24,
      "outputs": [
        {
          "output_type": "execute_result",
          "data": {
            "text/plain": [
              "(784,)"
            ]
          },
          "metadata": {
            "tags": []
          },
          "execution_count": 24
        }
      ]
    },
    {
      "cell_type": "code",
      "metadata": {
        "id": "a08T-jPQv8vz",
        "colab_type": "code",
        "colab": {}
      },
      "source": [
        "test_X = test_X.reshape(-1,28*28)\n",
        "train_X = train_X.reshape(-1,28*28)"
      ],
      "execution_count": 0,
      "outputs": []
    },
    {
      "cell_type": "code",
      "metadata": {
        "id": "_kQQxT-7v9TR",
        "colab_type": "code",
        "colab": {
          "base_uri": "https://localhost:8080/",
          "height": 34
        },
        "outputId": "186802e0-6a81-4442-9074-33c3d3581cb5"
      },
      "source": [
        "train_X.shape"
      ],
      "execution_count": 26,
      "outputs": [
        {
          "output_type": "execute_result",
          "data": {
            "text/plain": [
              "(60000, 784)"
            ]
          },
          "metadata": {
            "tags": []
          },
          "execution_count": 26
        }
      ]
    },
    {
      "cell_type": "code",
      "metadata": {
        "id": "l8Lrf1bXxZZy",
        "colab_type": "code",
        "colab": {}
      },
      "source": [
        "test_X = test_X.astype(\"float32\")\n",
        "train_X = train_X.astype(\"float32\")"
      ],
      "execution_count": 0,
      "outputs": []
    },
    {
      "cell_type": "code",
      "metadata": {
        "id": "jP-GvqYYxZ2e",
        "colab_type": "code",
        "colab": {}
      },
      "source": [
        "from keras.utils.np_utils import to_categorical"
      ],
      "execution_count": 0,
      "outputs": []
    },
    {
      "cell_type": "code",
      "metadata": {
        "id": "TFMIYGn4xaml",
        "colab_type": "code",
        "colab": {}
      },
      "source": [
        "test_y = to_categorical(test_y)\n",
        "train_y = to_categorical(train_y)"
      ],
      "execution_count": 0,
      "outputs": []
    },
    {
      "cell_type": "code",
      "metadata": {
        "id": "JbiR4eVjxbJF",
        "colab_type": "code",
        "colab": {}
      },
      "source": [
        "from keras.models import Sequential"
      ],
      "execution_count": 0,
      "outputs": []
    },
    {
      "cell_type": "code",
      "metadata": {
        "id": "k1USmix7v97n",
        "colab_type": "code",
        "colab": {}
      },
      "source": [
        "model = Sequential()"
      ],
      "execution_count": 0,
      "outputs": []
    },
    {
      "cell_type": "code",
      "metadata": {
        "id": "bK5ZVRoqus8c",
        "colab_type": "code",
        "colab": {}
      },
      "source": [
        "from keras.layers import Dense"
      ],
      "execution_count": 0,
      "outputs": []
    },
    {
      "cell_type": "code",
      "metadata": {
        "id": "wKsyQVoRydiP",
        "colab_type": "code",
        "colab": {
          "base_uri": "https://localhost:8080/",
          "height": 187
        },
        "outputId": "b8416047-b5f7-4cc7-9bc3-163b68bb9324"
      },
      "source": [
        "model.add(Dense(units=600 , input_dim =28*28 , activation ='relu'))\n",
        "model.summary()"
      ],
      "execution_count": 33,
      "outputs": [
        {
          "output_type": "stream",
          "text": [
            "Model: \"sequential_1\"\n",
            "_________________________________________________________________\n",
            "Layer (type)                 Output Shape              Param #   \n",
            "=================================================================\n",
            "dense_1 (Dense)              (None, 600)               471000    \n",
            "=================================================================\n",
            "Total params: 471,000\n",
            "Trainable params: 471,000\n",
            "Non-trainable params: 0\n",
            "_________________________________________________________________\n"
          ],
          "name": "stdout"
        }
      ]
    },
    {
      "cell_type": "code",
      "metadata": {
        "id": "jGGHelvuyeBS",
        "colab_type": "code",
        "colab": {
          "base_uri": "https://localhost:8080/",
          "height": 221
        },
        "outputId": "41b4c342-40ae-407e-a232-9a6cc1382d1b"
      },
      "source": [
        "model.add(Dense(units=200 , input_dim=28*28 , activation ='relu'))\n",
        "model.summary()"
      ],
      "execution_count": 34,
      "outputs": [
        {
          "output_type": "stream",
          "text": [
            "Model: \"sequential_1\"\n",
            "_________________________________________________________________\n",
            "Layer (type)                 Output Shape              Param #   \n",
            "=================================================================\n",
            "dense_1 (Dense)              (None, 600)               471000    \n",
            "_________________________________________________________________\n",
            "dense_2 (Dense)              (None, 200)               120200    \n",
            "=================================================================\n",
            "Total params: 591,200\n",
            "Trainable params: 591,200\n",
            "Non-trainable params: 0\n",
            "_________________________________________________________________\n"
          ],
          "name": "stdout"
        }
      ]
    },
    {
      "cell_type": "code",
      "metadata": {
        "id": "S-0GLRNuyebb",
        "colab_type": "code",
        "colab": {
          "base_uri": "https://localhost:8080/",
          "height": 255
        },
        "outputId": "20468e2d-05ae-44ad-b977-94e3fa77c61b"
      },
      "source": [
        "model.add(Dense(units=60 , input_dim=28*28 , activation ='relu'))\n",
        "model.summary()"
      ],
      "execution_count": 35,
      "outputs": [
        {
          "output_type": "stream",
          "text": [
            "Model: \"sequential_1\"\n",
            "_________________________________________________________________\n",
            "Layer (type)                 Output Shape              Param #   \n",
            "=================================================================\n",
            "dense_1 (Dense)              (None, 600)               471000    \n",
            "_________________________________________________________________\n",
            "dense_2 (Dense)              (None, 200)               120200    \n",
            "_________________________________________________________________\n",
            "dense_3 (Dense)              (None, 60)                12060     \n",
            "=================================================================\n",
            "Total params: 603,260\n",
            "Trainable params: 603,260\n",
            "Non-trainable params: 0\n",
            "_________________________________________________________________\n"
          ],
          "name": "stdout"
        }
      ]
    },
    {
      "cell_type": "code",
      "metadata": {
        "id": "p8Qq4sFxzwwK",
        "colab_type": "code",
        "colab": {
          "base_uri": "https://localhost:8080/",
          "height": 289
        },
        "outputId": "63f91f85-01e5-48a4-8d47-fb6d47998a2f"
      },
      "source": [
        "model.add(Dense(units=10 , input_dim=28*28 , activation= 'softmax'))\n",
        "model.summary()"
      ],
      "execution_count": 36,
      "outputs": [
        {
          "output_type": "stream",
          "text": [
            "Model: \"sequential_1\"\n",
            "_________________________________________________________________\n",
            "Layer (type)                 Output Shape              Param #   \n",
            "=================================================================\n",
            "dense_1 (Dense)              (None, 600)               471000    \n",
            "_________________________________________________________________\n",
            "dense_2 (Dense)              (None, 200)               120200    \n",
            "_________________________________________________________________\n",
            "dense_3 (Dense)              (None, 60)                12060     \n",
            "_________________________________________________________________\n",
            "dense_4 (Dense)              (None, 10)                610       \n",
            "=================================================================\n",
            "Total params: 603,870\n",
            "Trainable params: 603,870\n",
            "Non-trainable params: 0\n",
            "_________________________________________________________________\n"
          ],
          "name": "stdout"
        }
      ]
    },
    {
      "cell_type": "code",
      "metadata": {
        "id": "yL9CkunmzxT8",
        "colab_type": "code",
        "colab": {}
      },
      "source": [
        "from keras.optimizers import Adam"
      ],
      "execution_count": 0,
      "outputs": []
    },
    {
      "cell_type": "code",
      "metadata": {
        "id": "GwdDYGmfzxzm",
        "colab_type": "code",
        "colab": {}
      },
      "source": [
        "model.compile(optimizer=\"Adam\" , loss='categorical_crossentropy' , metrics=['accuracy'])"
      ],
      "execution_count": 0,
      "outputs": []
    },
    {
      "cell_type": "code",
      "metadata": {
        "id": "_UHcLjIvzyQk",
        "colab_type": "code",
        "colab": {
          "base_uri": "https://localhost:8080/",
          "height": 1000
        },
        "outputId": "53df8a93-fe7b-4a87-9288-a682a9085623"
      },
      "source": [
        "fit_model = model.fit(train_X , train_y , epochs =30)"
      ],
      "execution_count": 39,
      "outputs": [
        {
          "output_type": "stream",
          "text": [
            "Epoch 1/30\n",
            "60000/60000 [==============================] - 18s 298us/step - loss: 0.9806 - accuracy: 0.8584\n",
            "Epoch 2/30\n",
            "60000/60000 [==============================] - 18s 294us/step - loss: 0.2565 - accuracy: 0.9350\n",
            "Epoch 3/30\n",
            "60000/60000 [==============================] - 18s 296us/step - loss: 0.1813 - accuracy: 0.9512\n",
            "Epoch 4/30\n",
            "60000/60000 [==============================] - 18s 293us/step - loss: 0.1533 - accuracy: 0.9592\n",
            "Epoch 5/30\n",
            "60000/60000 [==============================] - 18s 293us/step - loss: 0.1193 - accuracy: 0.9681\n",
            "Epoch 6/30\n",
            "60000/60000 [==============================] - 17s 291us/step - loss: 0.1112 - accuracy: 0.9714\n",
            "Epoch 7/30\n",
            "60000/60000 [==============================] - 18s 292us/step - loss: 0.0924 - accuracy: 0.9762\n",
            "Epoch 8/30\n",
            "60000/60000 [==============================] - 18s 292us/step - loss: 0.0876 - accuracy: 0.9779\n",
            "Epoch 9/30\n",
            "60000/60000 [==============================] - 17s 289us/step - loss: 0.0753 - accuracy: 0.9811\n",
            "Epoch 10/30\n",
            "60000/60000 [==============================] - 17s 289us/step - loss: 0.0759 - accuracy: 0.9818\n",
            "Epoch 11/30\n",
            "60000/60000 [==============================] - 17s 290us/step - loss: 0.0648 - accuracy: 0.9842\n",
            "Epoch 12/30\n",
            "60000/60000 [==============================] - 17s 287us/step - loss: 0.0679 - accuracy: 0.9854\n",
            "Epoch 13/30\n",
            "60000/60000 [==============================] - 17s 288us/step - loss: 0.0591 - accuracy: 0.9864\n",
            "Epoch 14/30\n",
            "60000/60000 [==============================] - 17s 290us/step - loss: 0.0560 - accuracy: 0.9873\n",
            "Epoch 15/30\n",
            "60000/60000 [==============================] - 17s 288us/step - loss: 0.0532 - accuracy: 0.9876\n",
            "Epoch 16/30\n",
            "60000/60000 [==============================] - 17s 290us/step - loss: 0.0632 - accuracy: 0.9870\n",
            "Epoch 17/30\n",
            "60000/60000 [==============================] - 17s 291us/step - loss: 0.0556 - accuracy: 0.9883\n",
            "Epoch 18/30\n",
            "60000/60000 [==============================] - 17s 289us/step - loss: 0.0581 - accuracy: 0.9887\n",
            "Epoch 19/30\n",
            "60000/60000 [==============================] - 18s 295us/step - loss: 0.0457 - accuracy: 0.9906\n",
            "Epoch 20/30\n",
            "60000/60000 [==============================] - 18s 298us/step - loss: 0.0584 - accuracy: 0.9885\n",
            "Epoch 21/30\n",
            "60000/60000 [==============================] - 18s 292us/step - loss: 0.0482 - accuracy: 0.9900\n",
            "Epoch 22/30\n",
            "60000/60000 [==============================] - 17s 290us/step - loss: 0.0467 - accuracy: 0.9904\n",
            "Epoch 23/30\n",
            "60000/60000 [==============================] - 17s 290us/step - loss: 0.0470 - accuracy: 0.9901\n",
            "Epoch 24/30\n",
            "60000/60000 [==============================] - 18s 292us/step - loss: 0.0457 - accuracy: 0.9901\n",
            "Epoch 25/30\n",
            "60000/60000 [==============================] - 18s 294us/step - loss: 0.0571 - accuracy: 0.9901\n",
            "Epoch 26/30\n",
            "60000/60000 [==============================] - 18s 293us/step - loss: 0.0452 - accuracy: 0.9911\n",
            "Epoch 27/30\n",
            "60000/60000 [==============================] - 18s 293us/step - loss: 0.0555 - accuracy: 0.9908\n",
            "Epoch 28/30\n",
            "60000/60000 [==============================] - 18s 292us/step - loss: 0.0470 - accuracy: 0.9910\n",
            "Epoch 29/30\n",
            "60000/60000 [==============================] - 18s 293us/step - loss: 0.0397 - accuracy: 0.9924\n",
            "Epoch 30/30\n",
            "60000/60000 [==============================] - 18s 295us/step - loss: 0.0443 - accuracy: 0.9913\n"
          ],
          "name": "stdout"
        }
      ]
    },
    {
      "cell_type": "markdown",
      "metadata": {
        "id": "MMBigfn03LJP",
        "colab_type": "text"
      },
      "source": [
        "***Model trained by 99.13%  accuracy***"
      ]
    },
    {
      "cell_type": "code",
      "metadata": {
        "id": "cdyR9le2zyv9",
        "colab_type": "code",
        "colab": {}
      },
      "source": [
        "model.save(\"number detection model.pk2\")"
      ],
      "execution_count": 0,
      "outputs": []
    },
    {
      "cell_type": "code",
      "metadata": {
        "id": "acmsuIdRzzQI",
        "colab_type": "code",
        "colab": {}
      },
      "source": [
        "newimg = test_X[4].transpose()"
      ],
      "execution_count": 0,
      "outputs": []
    },
    {
      "cell_type": "code",
      "metadata": {
        "id": "mARX85M1ye9s",
        "colab_type": "code",
        "colab": {}
      },
      "source": [
        "import numpy"
      ],
      "execution_count": 0,
      "outputs": []
    },
    {
      "cell_type": "code",
      "metadata": {
        "id": "9l4nYXRk1nA5",
        "colab_type": "code",
        "colab": {}
      },
      "source": [
        "if(test_X[7].ndim==1):\n",
        "  XpredictInputData= numpy.array([test_X[7]])"
      ],
      "execution_count": 0,
      "outputs": []
    },
    {
      "cell_type": "code",
      "metadata": {
        "id": "MIFn1tGP1nia",
        "colab_type": "code",
        "colab": {}
      },
      "source": [
        "newimg = model.predict(XpredictInputData)"
      ],
      "execution_count": 0,
      "outputs": []
    },
    {
      "cell_type": "code",
      "metadata": {
        "id": "s28cTvvx1oFU",
        "colab_type": "code",
        "colab": {
          "base_uri": "https://localhost:8080/",
          "height": 102
        },
        "outputId": "a30face6-32a5-47ac-8c4c-b55b0c0249d6"
      },
      "source": [
        "plt.imshow(newimg)"
      ],
      "execution_count": 45,
      "outputs": [
        {
          "output_type": "execute_result",
          "data": {
            "text/plain": [
              "<matplotlib.image.AxesImage at 0x7f9eba023710>"
            ]
          },
          "metadata": {
            "tags": []
          },
          "execution_count": 45
        },
        {
          "output_type": "display_data",
          "data": {
            "image/png": "[encoded data removed]",
            "text/plain": [
              "<Figure size 432x288 with 1 Axes>"
            ]
          },
          "metadata": {
            "tags": [],
            "needs_background": "light"
          }
        }
      ]
    },
    {
      "cell_type": "code",
      "metadata": {
        "id": "xIEkxqJZ1os7",
        "colab_type": "code",
        "colab": {
          "base_uri": "https://localhost:8080/",
          "height": 102
        },
        "outputId": "6b437c25-eea0-460d-855b-6a5467d37061"
      },
      "source": [
        "plt.imshow([test_y[7]])"
      ],
      "execution_count": 46,
      "outputs": [
        {
          "output_type": "execute_result",
          "data": {
            "text/plain": [
              "<matplotlib.image.AxesImage at 0x7f9eb926f748>"
            ]
          },
          "metadata": {
            "tags": []
          },
          "execution_count": 46
        },
        {
          "output_type": "display_data",
          "data": {
            "image/png": "[encoded data removed]",
            "text/plain": [
              "<Figure size 432x288 with 1 Axes>"
            ]
          },
          "metadata": {
            "tags": [],
            "needs_background": "light"
          }
        }
      ]
    },
    {
      "cell_type": "code",
      "metadata": {
        "id": "Opzb1e_k1pO4",
        "colab_type": "code",
        "colab": {}
      },
      "source": [
        "if(test_X[18].ndim==1):\n",
        "  XpredictInputData= numpy.array([test_X[18]])"
      ],
      "execution_count": 0,
      "outputs": []
    },
    {
      "cell_type": "code",
      "metadata": {
        "id": "t9w9wbsm2gop",
        "colab_type": "code",
        "colab": {}
      },
      "source": [
        "newimg = model.predict(XpredictInputData)"
      ],
      "execution_count": 0,
      "outputs": []
    },
    {
      "cell_type": "code",
      "metadata": {
        "id": "tfGojQR02hH1",
        "colab_type": "code",
        "colab": {
          "base_uri": "https://localhost:8080/",
          "height": 102
        },
        "outputId": "c81195dd-a83c-48e7-aefb-f5a3b8f8e0b0"
      },
      "source": [
        "plt.imshow(newimg)"
      ],
      "execution_count": 49,
      "outputs": [
        {
          "output_type": "execute_result",
          "data": {
            "text/plain": [
              "<matplotlib.image.AxesImage at 0x7f9eb923b668>"
            ]
          },
          "metadata": {
            "tags": []
          },
          "execution_count": 49
        },
        {
          "output_type": "display_data",
          "data": {
            "image/png": "[encoded data removed]",
            "text/plain": [
              "<Figure size 432x288 with 1 Axes>"
            ]
          },
          "metadata": {
            "tags": [],
            "needs_background": "light"
          }
        }
      ]
    },
    {
      "cell_type": "code",
      "metadata": {
        "id": "WgT6X3Re2ht4",
        "colab_type": "code",
        "colab": {
          "base_uri": "https://localhost:8080/",
          "height": 102
        },
        "outputId": "67ae28b6-7829-44dc-b905-c14040e39c99"
      },
      "source": [
        "plt.imshow([test_y[18]])"
      ],
      "execution_count": 50,
      "outputs": [
        {
          "output_type": "execute_result",
          "data": {
            "text/plain": [
              "<matplotlib.image.AxesImage at 0x7f9eb920a710>"
            ]
          },
          "metadata": {
            "tags": []
          },
          "execution_count": 50
        },
        {
          "output_type": "display_data",
          "data": {
            "image/png": "[encoded data removed]",
            "text/plain": [
              "<Figure size 432x288 with 1 Axes>"
            ]
          },
          "metadata": {
            "tags": [],
            "needs_background": "light"
          }
        }
      ]
    },
    {
      "cell_type": "code",
      "metadata": {
        "id": "5ssnM9WS2iOe",
        "colab_type": "code",
        "colab": {}
      },
      "source": [
        ""
      ],
      "execution_count": 0,
      "outputs": []
    }
  ]
}