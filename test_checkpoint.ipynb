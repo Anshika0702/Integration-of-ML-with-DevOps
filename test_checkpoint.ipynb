{
  "nbformat": 4,
  "nbformat_minor": 0,
  "metadata": {
    "colab": {
      "name": "test-checkpoint.ipynb",
      "provenance": [],
      "authorship_tag": "ABX9TyMujBf1r/Tl7YnUAQhWgpnX",
      "include_colab_link": true
    },
    "kernelspec": {
      "name": "python3",
      "display_name": "Python 3"
    }
  },
  "cells": [
    {
      "cell_type": "markdown",
      "metadata": {
        "id": "view-in-github",
        "colab_type": "text"
      },
      "source": [
        "<a href=\"https://colab.research.google.com/github/Anshika0702/Integration-of-ML-with-DevOps/blob/master/test_checkpoint.ipynb\" target=\"_parent\"><img src=\"https://colab.research.google.com/assets/colab-badge.svg\" alt=\"Open In Colab\"/></a>"
      ]
    },
    {
      "cell_type": "code",
      "metadata": {
        "id": "RoWvVJQD6Wfj",
        "colab_type": "code",
        "colab": {}
      },
      "source": [
        "import keras\n",
        "import numpy"
      ],
      "execution_count": 0,
      "outputs": []
    },
    {
      "cell_type": "code",
      "metadata": {
        "id": "LZA8NOqv6sUy",
        "colab_type": "code",
        "colab": {}
      },
      "source": [
        "from keras.datasets import mnist"
      ],
      "execution_count": 0,
      "outputs": []
    },
    {
      "cell_type": "code",
      "metadata": {
        "id": "LFcV6Zjn6s7L",
        "colab_type": "code",
        "colab": {}
      },
      "source": [
        "def train_model(neurons):\n",
        "  model.add(Dense(units =neurons , input_dim =28*28 ,activation ='relu'))\n",
        "  model.add(Dense(units =200 , input_dim =28*28 ,activation ='relu'))\n",
        "  model.add(Dense(units =600 , input_dim =28*28 ,activation ='relu'))\n",
        "  model.add(Dense(units =60 , input_dim =28*28 ,activation ='relu'))\n",
        "  model.add(Dense(units =10 , input_dim =28*28 ,activation ='softmax'))\n",
        "  #model.summary()\n",
        "  from keras.optimizers import Adam\n",
        "  model.compile(optimizer = \"Adam\" , loss='categorical_crossentropy', metrics=['accuracy'])\n",
        "  fit_model = model.fit(train_X , train_y ,epochs=1)\n",
        "  return fit_model"
      ],
      "execution_count": 0,
      "outputs": []
    },
    {
      "cell_type": "code",
      "metadata": {
        "id": "of1dq6AK9PAI",
        "colab_type": "code",
        "colab": {}
      },
      "source": [
        "def validate(fit_model):\n",
        "  text = fit_model.history\n",
        "  accuracy = text['accuracy'][0]\n",
        "  accuracy = accuracy * 100\n",
        "  accuracy =int(accuracy)\n",
        "  accuracy =str(accuracy)\n",
        "  f = open(\"accuracy.txt\",\"w+\")\n",
        "  f.write(accuracy)\n",
        "  f.close()\n",
        "  print(accuracy)\n",
        "  return accuracy"
      ],
      "execution_count": 0,
      "outputs": []
    },
    {
      "cell_type": "code",
      "metadata": {
        "id": "eK2ilRu56tzF",
        "colab_type": "code",
        "colab": {}
      },
      "source": [
        "def reset_weights(fit_model):\n",
        "  weights = fit_model.get_weights()\n",
        "  weights = [[j*1 for j in i]for i in weights]\n",
        "  fit_model.set_weights(weights)\n",
        "  print(\"weights reseted successfully\")\n",
        "  return fit_model"
      ],
      "execution_count": 0,
      "outputs": []
    },
    {
      "cell_type": "code",
      "metadata": {
        "id": "d6l4h-UI9NtW",
        "colab_type": "code",
        "colab": {}
      },
      "source": [
        "dataset = mnist.load_data(\"mymnist.data\")\n",
        "train , test = dataset\n",
        "train_X , train_y = train\n",
        "test_X , test_y = test\n",
        "import matplotlib.pyplot as plt\n",
        "test_X = test_X.reshape(-1,28*28)\n",
        "train_X = train_X.reshape(-1,28*28)\n",
        "test_X = test_X.astype(\"float32\")\n",
        "train_X = train_X.astype(\"float32\")\n",
        "from keras.utils.np_utils import to_categorical\n",
        "test_y = to_categorical(test_y)\n",
        "train_y = to_categorical(train_y)"
      ],
      "execution_count": 0,
      "outputs": []
    },
    {
      "cell_type": "code",
      "metadata": {
        "id": "Ot4bWvc16uR8",
        "colab_type": "code",
        "colab": {
          "base_uri": "https://localhost:8080/",
          "height": 68
        },
        "outputId": "c21db5f8-a6b2-4684-ae5a-ba5857df77d5"
      },
      "source": [
        "from keras.models import Sequential\n",
        "model = Sequential()\n",
        "neurons = 10\n",
        "from keras.layers import Dense\n",
        "fit_model = train_model(neurons)\n",
        "accuracy = validate(fit_model)"
      ],
      "execution_count": 21,
      "outputs": [
        {
          "output_type": "stream",
          "text": [
            "Epoch 1/1\n",
            "60000/60000 [==============================] - 7s 120us/step - loss: 0.6900 - accuracy: 0.7890\n",
            "78\n"
          ],
          "name": "stdout"
        }
      ]
    },
    {
      "cell_type": "code",
      "metadata": {
        "id": "QvptzTmnAdhL",
        "colab_type": "code",
        "colab": {}
      },
      "source": [
        ""
      ],
      "execution_count": 0,
      "outputs": []
    },
    {
      "cell_type": "code",
      "metadata": {
        "id": "sgKbpwz3AeUZ",
        "colab_type": "code",
        "colab": {
          "base_uri": "https://localhost:8080/",
          "height": 367
        },
        "outputId": "9a213485-66c3-435b-aef0-190e137ea3dd"
      },
      "source": [
        "while int(accuracy)< 90:\n",
        "  print(\"Model trained successfully but accuracy is less than 96%\")\n",
        "  fit_model = reset_weights(fit_model)\n",
        "  fit_model = train_model(neurons+10)\n",
        "  accuracy = validate(fit_model)\n",
        "print(\"Code run successfully\")"
      ],
      "execution_count": 27,
      "outputs": [
        {
          "output_type": "stream",
          "text": [
            "Model trained successfully but accuracy is less than 96%\n"
          ],
          "name": "stdout"
        },
        {
          "output_type": "error",
          "ename": "AttributeError",
          "evalue": "ignored",
          "traceback": [
            "\u001b[0;31m---------------------------------------------------------------------------\u001b[0m",
            "\u001b[0;31mAttributeError\u001b[0m                            Traceback (most recent call last)",
            "\u001b[0;32m<ipython-input-27-23008cc6dcc1>\u001b[0m in \u001b[0;36m<module>\u001b[0;34m()\u001b[0m\n\u001b[1;32m      1\u001b[0m \u001b[0;32mwhile\u001b[0m \u001b[0mint\u001b[0m\u001b[0;34m(\u001b[0m\u001b[0maccuracy\u001b[0m\u001b[0;34m)\u001b[0m\u001b[0;34m<\u001b[0m \u001b[0;36m90\u001b[0m\u001b[0;34m:\u001b[0m\u001b[0;34m\u001b[0m\u001b[0;34m\u001b[0m\u001b[0m\n\u001b[1;32m      2\u001b[0m   \u001b[0mprint\u001b[0m\u001b[0;34m(\u001b[0m\u001b[0;34m\"Model trained successfully but accuracy is less than 96%\"\u001b[0m\u001b[0;34m)\u001b[0m\u001b[0;34m\u001b[0m\u001b[0;34m\u001b[0m\u001b[0m\n\u001b[0;32m----> 3\u001b[0;31m   \u001b[0mfit_model\u001b[0m \u001b[0;34m=\u001b[0m \u001b[0mreset_weights\u001b[0m\u001b[0;34m(\u001b[0m\u001b[0mfit_model\u001b[0m\u001b[0;34m)\u001b[0m\u001b[0;34m\u001b[0m\u001b[0;34m\u001b[0m\u001b[0m\n\u001b[0m\u001b[1;32m      4\u001b[0m   \u001b[0mfit_model\u001b[0m \u001b[0;34m=\u001b[0m \u001b[0mtrain_model\u001b[0m\u001b[0;34m(\u001b[0m\u001b[0mneurons\u001b[0m\u001b[0;34m+\u001b[0m\u001b[0;36m10\u001b[0m\u001b[0;34m)\u001b[0m\u001b[0;34m\u001b[0m\u001b[0;34m\u001b[0m\u001b[0m\n\u001b[1;32m      5\u001b[0m   \u001b[0maccuracy\u001b[0m \u001b[0;34m=\u001b[0m \u001b[0mvalidate\u001b[0m\u001b[0;34m(\u001b[0m\u001b[0mfit_model\u001b[0m\u001b[0;34m)\u001b[0m\u001b[0;34m\u001b[0m\u001b[0;34m\u001b[0m\u001b[0m\n",
            "\u001b[0;32m<ipython-input-25-a5be911cfea5>\u001b[0m in \u001b[0;36mreset_weights\u001b[0;34m(fit_model)\u001b[0m\n\u001b[1;32m      1\u001b[0m \u001b[0;32mdef\u001b[0m \u001b[0mreset_weights\u001b[0m\u001b[0;34m(\u001b[0m\u001b[0mfit_model\u001b[0m\u001b[0;34m)\u001b[0m\u001b[0;34m:\u001b[0m\u001b[0;34m\u001b[0m\u001b[0;34m\u001b[0m\u001b[0m\n\u001b[0;32m----> 2\u001b[0;31m   \u001b[0mweights\u001b[0m \u001b[0;34m=\u001b[0m \u001b[0mfit_model\u001b[0m\u001b[0;34m.\u001b[0m\u001b[0mget_weights\u001b[0m\u001b[0;34m(\u001b[0m\u001b[0;34m)\u001b[0m\u001b[0;34m\u001b[0m\u001b[0;34m\u001b[0m\u001b[0m\n\u001b[0m\u001b[1;32m      3\u001b[0m   \u001b[0mweights\u001b[0m \u001b[0;34m=\u001b[0m \u001b[0;34m[\u001b[0m\u001b[0;34m[\u001b[0m\u001b[0mj\u001b[0m\u001b[0;34m*\u001b[0m\u001b[0;36m1\u001b[0m \u001b[0;32mfor\u001b[0m \u001b[0mj\u001b[0m \u001b[0;32min\u001b[0m \u001b[0mi\u001b[0m\u001b[0;34m]\u001b[0m\u001b[0;32mfor\u001b[0m \u001b[0mi\u001b[0m \u001b[0;32min\u001b[0m \u001b[0mweights\u001b[0m\u001b[0;34m]\u001b[0m\u001b[0;34m\u001b[0m\u001b[0;34m\u001b[0m\u001b[0m\n\u001b[1;32m      4\u001b[0m   \u001b[0mfit_model\u001b[0m\u001b[0;34m.\u001b[0m\u001b[0mset_weights\u001b[0m\u001b[0;34m(\u001b[0m\u001b[0mweights\u001b[0m\u001b[0;34m)\u001b[0m\u001b[0;34m\u001b[0m\u001b[0;34m\u001b[0m\u001b[0m\n\u001b[1;32m      5\u001b[0m   \u001b[0mprint\u001b[0m\u001b[0;34m(\u001b[0m\u001b[0;34m\"weights reseted successfully\"\u001b[0m\u001b[0;34m)\u001b[0m\u001b[0;34m\u001b[0m\u001b[0;34m\u001b[0m\u001b[0m\n",
            "\u001b[0;31mAttributeError\u001b[0m: 'History' object has no attribute 'get_weights'"
          ]
        }
      ]
    },
    {
      "cell_type": "code",
      "metadata": {
        "id": "B5SLRpOwCiMd",
        "colab_type": "code",
        "colab": {
          "base_uri": "https://localhost:8080/",
          "height": 34
        },
        "outputId": "f992a942-6524-4048-c30c-72b27dcd370a"
      },
      "source": [
        "print(\"Code run successfully\")"
      ],
      "execution_count": 29,
      "outputs": [
        {
          "output_type": "stream",
          "text": [
            "Code run successfully\n"
          ],
          "name": "stdout"
        }
      ]
    },
    {
      "cell_type": "code",
      "metadata": {
        "id": "SuSIzxBfBipq",
        "colab_type": "code",
        "colab": {}
      },
      "source": [
        ""
      ],
      "execution_count": 0,
      "outputs": []
    }
  ]
}